{
 "cells": [
  {
   "cell_type": "code",
   "execution_count": null,
   "id": "7818efed-e122-4c10-a66c-c5b82f33e089",
   "metadata": {},
   "outputs": [],
   "source": [
    "#1 The three measures of central tendency are mean, median, mode."
   ]
  },
  {
   "cell_type": "code",
   "execution_count": null,
   "id": "a78c1c7e-b3b0-4720-8928-aac8e049d8a9",
   "metadata": {},
   "outputs": [],
   "source": [
    "#2 The mean is the average where the sum of all the numbers is divided by the total number of numbers, whereas the median is the middle value in the list of given numbers numerically ordered from smallest to biggest and mode is the value of the number which occurs most often in the list."
   ]
  },
  {
   "cell_type": "code",
   "execution_count": null,
   "id": "0fae437f-67dd-4a5b-b6c8-ff5f08a27fdd",
   "metadata": {},
   "outputs": [],
   "source": [
    "\n",
    "#Ans 3-\n",
    "\n",
    "#Mean = 177.02\n",
    "\n",
    "#Median = 177\n",
    "\n",
    "#Mode = 177 and 178\n",
    "\n",
    "\n",
    "\n"
   ]
  },
  {
   "cell_type": "code",
   "execution_count": null,
   "id": "d34cb593-292c-4af8-b104-ab75b1aa7dd7",
   "metadata": {},
   "outputs": [],
   "source": [
    "#4 SD= 1.74"
   ]
  },
  {
   "cell_type": "code",
   "execution_count": null,
   "id": "a2aae026-c719-4673-b72a-208e1d7622c0",
   "metadata": {},
   "outputs": [],
   "source": [
    "\n",
    "#5-\n",
    "#Range: It's the difference between the maximum and minimum values.\n",
    "#Variance: It's the average squared difference of each data point from the mean.\n",
    "#Standard Deviation: It's the square root of the variance.\n",
    "\n",
    "#They help understand the variability and distribution of data. For example, in a dataset of test scores, a high standard deviation indicates more variability among scores, while a low standard deviation suggests scores are closer to the mean.\n",
    "\n",
    "\n"
   ]
  },
  {
   "cell_type": "code",
   "execution_count": null,
   "id": "e269307c-7135-45ab-ba3c-ebc1fb8a5b50",
   "metadata": {},
   "outputs": [],
   "source": [
    "#6 A Venn diagram uses overlapping circles or other shapes to illustrate the logical relationships between two or more sets of items"
   ]
  },
  {
   "cell_type": "code",
   "execution_count": null,
   "id": "8aaf6c65-0865-412a-a71d-29ebc58da5bc",
   "metadata": {},
   "outputs": [],
   "source": [
    "#7  \n",
    "#i- (2,6)\n",
    "#ii- (0,2,3,4,5,6,7,8,10)"
   ]
  },
  {
   "cell_type": "code",
   "execution_count": null,
   "id": "72b9b73c-ffb2-4fed-b6a9-59e4f9103c96",
   "metadata": {},
   "outputs": [],
   "source": [
    "#8- Skewness is a measure of the asymmetry of a distribution"
   ]
  },
  {
   "cell_type": "code",
   "execution_count": null,
   "id": "d08e086b-a994-4491-b206-5e50ce83f89f",
   "metadata": {},
   "outputs": [],
   "source": [
    "#9- If a data is right skewed then median is less than or equal to mean "
   ]
  },
  {
   "cell_type": "code",
   "execution_count": null,
   "id": "49199781-3264-4278-be56-ad90f917aeb8",
   "metadata": {},
   "outputs": [],
   "source": [
    "#10-\n",
    "#Covariance shows if two things change together, but it's hard to understand. Correlation makes it easier by giving a number between -1 and 1 that shows how closely related they are.\n",
    "\n",
    "#In statistical analysis, covariance and correlation are used to understand how variables relate to each other. They help identify patterns, measure the strength of relationships, and make predictions.\n"
   ]
  },
  {
   "cell_type": "code",
   "execution_count": null,
   "id": "42ec26d3-2b88-415a-8912-4ebd57a41b10",
   "metadata": {},
   "outputs": [],
   "source": [
    "#11 The general formula for calculating the sample mean is given by x̄ = ( Σ xi ) / n. Here, x̄ represents the sample mean, xi refers all X sample values and n stands for the number of sample terms in the data set\n",
    "\n",
    "#Suppose we have a dataset of exam scores: {85, 90, 88, 92, 95}. To calculate the sample mean:\n",
    "#x̄ = (85+ 90+ 88+ 92+ 95)/5\n",
    "#  = 450/5\n",
    "#  =90\n",
    "#So, the sample mean of the dataset is 90.\n"
   ]
  },
  {
   "cell_type": "code",
   "execution_count": null,
   "id": "6c5b706f-a1b0-4e2d-a0c3-3ef135436897",
   "metadata": {},
   "outputs": [],
   "source": [
    "#12  The mean, mode and median are exactly the same in a normal distribution."
   ]
  },
  {
   "cell_type": "code",
   "execution_count": null,
   "id": "ef274a1d-08cc-4b52-8661-184d23d38102",
   "metadata": {},
   "outputs": [],
   "source": [
    "#13 Covariance indicates the direction of the linear relationship between variables. Correlation measures both the strength and direction of the linear relationship between two variables."
   ]
  },
  {
   "cell_type": "code",
   "execution_count": null,
   "id": "4bd62992-29e8-4f2e-975a-976325ef5198",
   "metadata": {},
   "outputs": [],
   "source": [
    "#14- Outliers can heavily skew measures of central tendency like the mean, but have minimal impact on the median and mode. They also increase measures of dispersion like the range, standard deviation, and variance by widening the spread of the data. For example, in a dataset of test scores, a single extremely high score can inflate the average and increase the standard deviation, giving a misleading impression of the overall performance."
   ]
  }
 ],
 "metadata": {
  "kernelspec": {
   "display_name": "Python 3 (ipykernel)",
   "language": "python",
   "name": "python3"
  },
  "language_info": {
   "codemirror_mode": {
    "name": "ipython",
    "version": 3
   },
   "file_extension": ".py",
   "mimetype": "text/x-python",
   "name": "python",
   "nbconvert_exporter": "python",
   "pygments_lexer": "ipython3",
   "version": "3.10.8"
  }
 },
 "nbformat": 4,
 "nbformat_minor": 5
}
