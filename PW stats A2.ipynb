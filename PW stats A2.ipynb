{
 "cells": [
  {
   "cell_type": "raw",
   "id": "b382694f-e8cc-422e-a39d-1e1246d00873",
   "metadata": {},
   "source": [
    "1 The three measures of central tendency are mean, median, mode."
   ]
  },
  {
   "cell_type": "raw",
   "id": "01e666c8-4da9-483e-9e7a-fd5cfac6dbb5",
   "metadata": {},
   "source": [
    "2 The mean is the average where the sum of all the numbers is divided by the total number of numbers, whereas the median is the middle value in the list of given numbers numerically ordered from smallest to biggest and mode is the value of the number which occurs most often in the list."
   ]
  },
  {
   "cell_type": "raw",
   "id": "bdf75ae1-2bb8-4e7b-8abd-e84e0ce5cc7b",
   "metadata": {},
   "source": [
    "\n",
    "Ans 3-\n",
    "\n",
    "Mean = 177.02\n",
    "\n",
    "Median = 177\n",
    "\n",
    "Mode = 177 and 178\n",
    "\n",
    "\n",
    "\n"
   ]
  },
  {
   "cell_type": "raw",
   "id": "c3275439-e16a-417f-9850-ad9cd255f301",
   "metadata": {},
   "source": [
    "4 SD= 1.74"
   ]
  },
  {
   "cell_type": "raw",
   "id": "4e9f8fad-c59a-408d-aea1-3a125eb3dbed",
   "metadata": {},
   "source": [
    "\n",
    "5-\n",
    "Range: It's the difference between the maximum and minimum values.\n",
    "Variance: It's the average squared difference of each data point from the mean.\n",
    "Standard Deviation: It's the square root of the variance.\n",
    "\n",
    "They help understand the variability and distribution of data. For example, in a dataset of test scores, a high standard deviation indicates more variability among scores, while a low standard deviation suggests scores are closer to the mean.\n",
    "\n",
    "\n"
   ]
  },
  {
   "cell_type": "raw",
   "id": "75478048-e2ff-4fdd-ad0e-225ae6152be5",
   "metadata": {},
   "source": [
    "6 A Venn diagram uses overlapping circles or other shapes to illustrate the logical relationships between two or more sets of items"
   ]
  },
  {
   "cell_type": "raw",
   "id": "18e8fd8e-fbf6-4c34-9eb9-9176d311d81a",
   "metadata": {},
   "source": [
    "7  \n",
    "i- (2,6)\n",
    "ii- (0,2,3,4,5,6,7,8,10)"
   ]
  },
  {
   "cell_type": "raw",
   "id": "45100d30-f00f-48e8-bcc0-e5c31e36da47",
   "metadata": {},
   "source": [
    "8- Skewness is a measure of the asymmetry of a distribution"
   ]
  },
  {
   "cell_type": "raw",
   "id": "8e4a555f-7afc-4cd0-8ef9-049077a88203",
   "metadata": {},
   "source": [
    "9- If a data is right skewed then median is less than or equal to mean "
   ]
  },
  {
   "cell_type": "raw",
   "id": "4e274f0d-2dc6-446e-bc70-ca9c5fd8f0d5",
   "metadata": {},
   "source": [
    "10-\n",
    "Covariance shows if two things change together, but it's hard to understand. Correlation makes it easier by giving a number between -1 and 1 that shows how closely related they are.\n",
    "\n",
    "In statistical analysis, covariance and correlation are used to understand how variables relate to each other. They help identify patterns, measure the strength of relationships, and make predictions.\n"
   ]
  },
  {
   "cell_type": "raw",
   "id": "79a31e73-2f70-41aa-b84e-52e40a78373c",
   "metadata": {},
   "source": [
    "11 The general formula for calculating the sample mean is given by x̄ = ( Σ xi ) / n. Here, x̄ represents the sample mean, xi refers all X sample values and n stands for the number of sample terms in the data set\n",
    "\n",
    "Suppose we have a dataset of exam scores: {85, 90, 88, 92, 95}. To calculate the sample mean:\n",
    "x̄ = (85+ 90+ 88+ 92+ 95)/5\n",
    "  = 450/5\n",
    "  =90\n",
    "So, the sample mean of the dataset is 90.\n"
   ]
  },
  {
   "cell_type": "raw",
   "id": "42e17f36-b781-49c0-9a48-54ec2f235dde",
   "metadata": {},
   "source": [
    "12  The mean, mode and median are exactly the same in a normal distribution."
   ]
  },
  {
   "cell_type": "raw",
   "id": "e8c0bd01-73d1-439c-83d9-e7b58b132f05",
   "metadata": {},
   "source": [
    "13 Covariance indicates the direction of the linear relationship between variables. Correlation measures both the strength and direction of the linear relationship between two variables."
   ]
  },
  {
   "cell_type": "raw",
   "id": "a0a8975e-2cea-4524-b1ec-eb0306338153",
   "metadata": {},
   "source": [
    "14- Outliers can heavily skew measures of central tendency like the mean, but have minimal impact on the median and mode. They also increase measures of dispersion like the range, standard deviation, and variance by widening the spread of the data. For example, in a dataset of test scores, a single extremely high score can inflate the average and increase the standard deviation, giving a misleading impression of the overall performance."
   ]
  }
 ],
 "metadata": {
  "kernelspec": {
   "display_name": "Python 3 (ipykernel)",
   "language": "python",
   "name": "python3"
  },
  "language_info": {
   "codemirror_mode": {
    "name": "ipython",
    "version": 3
   },
   "file_extension": ".py",
   "mimetype": "text/x-python",
   "name": "python",
   "nbconvert_exporter": "python",
   "pygments_lexer": "ipython3",
   "version": "3.10.8"
  }
 },
 "nbformat": 4,
 "nbformat_minor": 5
}
